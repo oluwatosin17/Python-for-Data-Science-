{
 "cells": [
  {
   "cell_type": "code",
   "execution_count": 1,
   "metadata": {},
   "outputs": [
    {
     "name": "stdout",
     "output_type": "stream",
     "text": [
      "csv added successfully\n"
     ]
    }
   ],
   "source": [
    "from csv import reader\n",
    "\n",
    "opened_file = open('potus_visitors_2015.csv', encoding = 'utf8')\n",
    "read_file = reader(opened_file)\n",
    "potus = list(read_file)\n",
    "potus_header = potus[0]\n",
    "potus = potus[1:]\n",
    "\n",
    "print('csv added successfully')"
   ]
  },
  {
   "cell_type": "markdown",
   "metadata": {},
   "source": [
    "**Python has three standard module for working with dates and time**\n",
    "\n",
    "1. The `calendar` module\n",
    "2. The `time` module\n",
    "3. The `datetime` module\n",
    "\n",
    "The `datetime` module has a number of classes including\n",
    "\n",
    "1. datetime.datetime : working with date and time data\n",
    "2. datetime.time : working with time data only\n",
    "3. datetime.timedelta: for representing periods\n",
    "\n",
    "datetime.stptime() uses strftime to describe date and time formats"
   ]
  },
  {
   "cell_type": "code",
   "execution_count": 2,
   "metadata": {},
   "outputs": [],
   "source": [
    "import datetime as dt"
   ]
  },
  {
   "cell_type": "code",
   "execution_count": 3,
   "metadata": {},
   "outputs": [
    {
     "name": "stdout",
     "output_type": "stream",
     "text": [
      "2000-01-01 00:00:00\n",
      "1985-01-01 21:26:02\n",
      "1998-01-01 08:39:00\n"
     ]
    }
   ],
   "source": [
    "eg_1 = dt.datetime(2000,1,1)\n",
    "print(eg_1)\n",
    "\n",
    "eg_2 = dt.datetime(1985,1,1,21,26,2)\n",
    "print(eg_2)\n",
    "\n",
    "eg_3 = dt.datetime(1998,1,1,8,39)\n",
    "print(eg_3)"
   ]
  },
  {
   "cell_type": "code",
   "execution_count": 4,
   "metadata": {},
   "outputs": [
    {
     "name": "stdout",
     "output_type": "stream",
     "text": [
      "12/18/15 16:30\n"
     ]
    }
   ],
   "source": [
    "print(potus[-1][2])"
   ]
  },
  {
   "cell_type": "code",
   "execution_count": 5,
   "metadata": {},
   "outputs": [],
   "source": [
    "date_string = \"12/18/15 16:30\"\n",
    "date, time = date_string.split()\n",
    "hr,mn = time.split(':')\n",
    "mnth,day,yr = date.split('/')\n",
    "\n",
    "hr = int(hr)\n",
    "mn = int(mn)\n",
    "mnth = int(mnth)\n",
    "day = int(day)\n",
    "yr = int(yr)\n",
    "\n",
    "date_dt = dt.datetime(yr,mnth,day,hr,mn)"
   ]
  },
  {
   "cell_type": "code",
   "execution_count": 6,
   "metadata": {},
   "outputs": [
    {
     "name": "stdout",
     "output_type": "stream",
     "text": [
      "0015-12-18 16:30:00\n"
     ]
    }
   ],
   "source": [
    "print(date_dt)"
   ]
  },
  {
   "cell_type": "code",
   "execution_count": 7,
   "metadata": {},
   "outputs": [
    {
     "name": "stdout",
     "output_type": "stream",
     "text": [
      "<class 'datetime.datetime'>\n",
      "1984-12-24 00:00:00\n"
     ]
    }
   ],
   "source": [
    "date_1_str = \"24/12/1984\"\n",
    "date_1_str = dt.datetime.strptime(date_1_str, \"%d/%m/%Y\")\n",
    "print(type(date_1_str ))\n",
    "print(date_1_str)"
   ]
  },
  {
   "cell_type": "code",
   "execution_count": 8,
   "metadata": {},
   "outputs": [],
   "source": [
    "date_format = \"%m/%d/%y %H:%M\"\n",
    "\n",
    "for row in potus:\n",
    "    start_date = row[2]\n",
    "    start_date = dt.datetime.strptime(start_date,date_format)\n",
    "    row[2] = start_date"
   ]
  },
  {
   "cell_type": "code",
   "execution_count": 9,
   "metadata": {},
   "outputs": [
    {
     "name": "stdout",
     "output_type": "stream",
     "text": [
      "2015-01-06 09:30:00\n"
     ]
    }
   ],
   "source": [
    "print(potus[1][2])"
   ]
  },
  {
   "cell_type": "code",
   "execution_count": 10,
   "metadata": {},
   "outputs": [
    {
     "name": "stdout",
     "output_type": "stream",
     "text": [
      "24/12/1984\n"
     ]
    }
   ],
   "source": [
    "dt_object = dt.datetime(1984,12,24)\n",
    "day = dt_object.day\n",
    "month = dt_object.month\n",
    "year = dt_object.year\n",
    "dt_string = \"{}/{}/{}\".format(day,month,year)\n",
    "print(dt_string)"
   ]
  },
  {
   "cell_type": "markdown",
   "metadata": {},
   "source": [
    "strptime >-- string parse time\n",
    "\n",
    "strftime >-- string format time"
   ]
  },
  {
   "cell_type": "code",
   "execution_count": 11,
   "metadata": {},
   "outputs": [
    {
     "name": "stdout",
     "output_type": "stream",
     "text": [
      "24/12/1984\n"
     ]
    }
   ],
   "source": [
    "dt_object = dt.datetime(1984,12,24)\n",
    "dt_string = dt_object.strftime(\"%d/%m/%Y\")\n",
    "print(dt_string)"
   ]
  },
  {
   "cell_type": "code",
   "execution_count": 12,
   "metadata": {},
   "outputs": [
    {
     "name": "stdout",
     "output_type": "stream",
     "text": [
      "December,12,1984\n"
     ]
    }
   ],
   "source": [
    "dt_object = dt.datetime(1984,12,24)\n",
    "dt_string = dt_object.strftime(\"%B,%m,%Y\")\n",
    "print(dt_string)"
   ]
  },
  {
   "cell_type": "code",
   "execution_count": 13,
   "metadata": {},
   "outputs": [
    {
     "name": "stdout",
     "output_type": "stream",
     "text": [
      "Monday December 24 at 12:00 AM\n"
     ]
    }
   ],
   "source": [
    "dt_object = dt.datetime(1984,12,24)\n",
    "dt_string = dt_object.strftime(\"%A %B %d at %I:%M %p\")\n",
    "print(dt_string)"
   ]
  },
  {
   "cell_type": "code",
   "execution_count": 14,
   "metadata": {},
   "outputs": [],
   "source": [
    "vistors_per_month = {}\n",
    "\n",
    "for row in potus:\n",
    "    start_date = row[2]\n",
    "    start_date = start_date.strftime(\"%B, %Y\")\n",
    "    if start_date not in vistors_per_month:\n",
    "        vistors_per_month[start_date] = 1\n",
    "    else:\n",
    "        vistors_per_month[start_date] += 1"
   ]
  },
  {
   "cell_type": "code",
   "execution_count": 15,
   "metadata": {},
   "outputs": [
    {
     "data": {
      "text/plain": [
       "{'January, 2015': 1248,\n",
       " 'February, 2015': 2165,\n",
       " 'March, 2015': 2262,\n",
       " 'April, 2015': 4996,\n",
       " 'May, 2015': 3013,\n",
       " 'June, 2015': 7743,\n",
       " 'July, 2015': 2930,\n",
       " 'August, 2015': 1350,\n",
       " 'September, 2015': 4416,\n",
       " 'October, 2015': 3669,\n",
       " 'November, 2015': 1133,\n",
       " 'December, 2015': 13029}"
      ]
     },
     "execution_count": 15,
     "metadata": {},
     "output_type": "execute_result"
    }
   ],
   "source": [
    "vistors_per_month "
   ]
  },
  {
   "cell_type": "code",
   "execution_count": 16,
   "metadata": {},
   "outputs": [],
   "source": [
    "list = (1,2,1,1,2,1,2,2,2,2,2,2,1,3,3,3,3)\n",
    "ones = {}\n",
    "\n",
    "for row in list:\n",
    "    if row not in ones:\n",
    "        ones[row] = 1\n",
    "    else:\n",
    "        ones[row] += 1"
   ]
  },
  {
   "cell_type": "code",
   "execution_count": 17,
   "metadata": {},
   "outputs": [
    {
     "data": {
      "text/plain": [
       "{1: 5, 2: 8, 3: 4}"
      ]
     },
     "execution_count": 17,
     "metadata": {},
     "output_type": "execute_result"
    }
   ],
   "source": [
    "ones"
   ]
  },
  {
   "cell_type": "markdown",
   "metadata": {},
   "source": [
    "**The Time Class**\n",
    "\n",
    "datetime.time(hour=0, minutes = 0, second=0, microsecond = 0)"
   ]
  },
  {
   "cell_type": "code",
   "execution_count": 18,
   "metadata": {},
   "outputs": [
    {
     "name": "stdout",
     "output_type": "stream",
     "text": [
      "14:30:00\n"
     ]
    }
   ],
   "source": [
    "two_thirty = dt.time(14,30)\n",
    "print(two_thirty)"
   ]
  },
  {
   "cell_type": "code",
   "execution_count": 19,
   "metadata": {},
   "outputs": [
    {
     "name": "stdout",
     "output_type": "stream",
     "text": [
      "08:00:05\n"
     ]
    }
   ],
   "source": [
    "five_sec_after_8am = dt.time(8,0,5)\n",
    "print(five_sec_after_8am)"
   ]
  },
  {
   "cell_type": "code",
   "execution_count": 20,
   "metadata": {},
   "outputs": [
    {
     "name": "stdout",
     "output_type": "stream",
     "text": [
      "1963-11-22 12:30:00\n"
     ]
    }
   ],
   "source": [
    "jfk_shot_dt = dt.datetime(1963,11,22,12,30)\n",
    "print(jfk_shot_dt)"
   ]
  },
  {
   "cell_type": "code",
   "execution_count": 21,
   "metadata": {},
   "outputs": [
    {
     "name": "stdout",
     "output_type": "stream",
     "text": [
      "1900-01-01 08:00:00\n"
     ]
    }
   ],
   "source": [
    "time_str = \"8:00\"\n",
    "time_dt = dt.datetime.strptime(time_str, \"%H:%M\")\n",
    "print(time_dt)"
   ]
  },
  {
   "cell_type": "code",
   "execution_count": 22,
   "metadata": {},
   "outputs": [],
   "source": [
    "app_times = []\n",
    "\n",
    "for row in potus:\n",
    "    start_time = row[2]\n",
    "    start_time = start_time.time()\n",
    "    app_times.append(start_time)"
   ]
  },
  {
   "cell_type": "code",
   "execution_count": 23,
   "metadata": {},
   "outputs": [
    {
     "name": "stdout",
     "output_type": "stream",
     "text": [
      "True\n",
      "15:30:00\n",
      "10:45:00\n"
     ]
    }
   ],
   "source": [
    "t1 = dt.time(15, 30)\n",
    "t2 = dt.time(10,45)\n",
    "\n",
    "comparision = t1 > t2\n",
    "print(comparision)\n",
    "print(t1)\n",
    "print(t2)"
   ]
  },
  {
   "cell_type": "code",
   "execution_count": 24,
   "metadata": {},
   "outputs": [
    {
     "name": "stdout",
     "output_type": "stream",
     "text": [
      "08:00:00\n",
      "23:30:00\n"
     ]
    }
   ],
   "source": [
    "times = [\n",
    "    \n",
    "    dt.time(23,30),\n",
    "    dt.time(14,45),\n",
    "    dt.time(8,0)\n",
    "\n",
    "]\n",
    "print(min(times))\n",
    "print(max(times))"
   ]
  },
  {
   "cell_type": "code",
   "execution_count": 25,
   "metadata": {},
   "outputs": [
    {
     "name": "stdout",
     "output_type": "stream",
     "text": [
      "06:00:00\n",
      "21:30:00\n"
     ]
    }
   ],
   "source": [
    "min_time = (min(app_times))\n",
    "max_time = (max(app_times))\n",
    "print(min_time)\n",
    "print(max_time)"
   ]
  },
  {
   "cell_type": "markdown",
   "metadata": {},
   "source": [
    "date.timedelta represent a period of time compared with the other classes"
   ]
  },
  {
   "cell_type": "code",
   "execution_count": 26,
   "metadata": {},
   "outputs": [
    {
     "name": "stdout",
     "output_type": "stream",
     "text": [
      "2 days, 0:00:00\n"
     ]
    }
   ],
   "source": [
    "two_days = dt.timedelta(2)\n",
    "print(two_days)"
   ]
  },
  {
   "cell_type": "code",
   "execution_count": 27,
   "metadata": {},
   "outputs": [
    {
     "name": "stdout",
     "output_type": "stream",
     "text": [
      "21 days, 0:00:00\n"
     ]
    }
   ],
   "source": [
    "three_weeks = dt.timedelta(weeks = 3)\n",
    "print(three_weeks)"
   ]
  },
  {
   "cell_type": "code",
   "execution_count": 28,
   "metadata": {},
   "outputs": [
    {
     "name": "stdout",
     "output_type": "stream",
     "text": [
      "1:10:00\n"
     ]
    }
   ],
   "source": [
    "one_hr_ten_mins = dt.timedelta(hours = 1, minutes = 10)\n",
    "print(one_hr_ten_mins)"
   ]
  },
  {
   "cell_type": "code",
   "execution_count": 29,
   "metadata": {},
   "outputs": [
    {
     "name": "stdout",
     "output_type": "stream",
     "text": [
      "1963-02-28\n"
     ]
    }
   ],
   "source": [
    "d1 = dt.date(1963,2,21)\n",
    "d1_plus_1wk = d1 + dt.timedelta(weeks = 1)\n",
    "print(d1_plus_1wk)"
   ]
  },
  {
   "cell_type": "code",
   "execution_count": 30,
   "metadata": {},
   "outputs": [],
   "source": [
    "dt_1 = dt.datetime(1981,1,31)\n",
    "dt_2 = dt.datetime(1984,6,28)\n",
    "dt_3 = dt.datetime(2016,5,24)\n",
    "dt_4 = dt.datetime(2001,1,1,8,24,13)"
   ]
  },
  {
   "cell_type": "code",
   "execution_count": 31,
   "metadata": {},
   "outputs": [
    {
     "name": "stdout",
     "output_type": "stream",
     "text": [
      "1244 days, 0:00:00\n",
      "2016-07-19 00:00:00\n",
      "2001-01-01 07:24:13\n"
     ]
    }
   ],
   "source": [
    "answer_1 = dt_2 - dt_1\n",
    "print(answer_1)\n",
    "answer_2 = dt_3 + dt.timedelta(days = 56)\n",
    "print(answer_2)\n",
    "answer_3 = dt_4 -dt.timedelta(seconds = 3600)\n",
    "print(answer_3)"
   ]
  },
  {
   "cell_type": "code",
   "execution_count": 32,
   "metadata": {},
   "outputs": [
    {
     "name": "stdout",
     "output_type": "stream",
     "text": [
      "1:00:00\n"
     ]
    }
   ],
   "source": [
    "start_time = dt.datetime(2015,1,6,9,30)\n",
    "end_time = dt.datetime(2015,1,6,10,30)\n",
    "meeting_length = end_time - start_time \n",
    "print(meeting_length)"
   ]
  },
  {
   "cell_type": "code",
   "execution_count": 33,
   "metadata": {},
   "outputs": [
    {
     "name": "stdout",
     "output_type": "stream",
     "text": [
      "0:00:45\n"
     ]
    }
   ],
   "source": [
    "length_counts = {\n",
    "    dt.timedelta(minutes= 15):21,\n",
    "    dt.timedelta(hours = 3):1,\n",
    "    dt.timedelta(seconds = 45):15    \n",
    "}\n",
    "min_length = min(length_counts)\n",
    "print(min_length)"
   ]
  },
  {
   "cell_type": "code",
   "execution_count": 34,
   "metadata": {},
   "outputs": [
    {
     "name": "stdout",
     "output_type": "stream",
     "text": [
      "3:00:00\n"
     ]
    }
   ],
   "source": [
    "max_length = max(length_counts)\n",
    "print(max_length)"
   ]
  },
  {
   "cell_type": "code",
   "execution_count": 35,
   "metadata": {},
   "outputs": [],
   "source": [
    "date_format = \"%m/%d/%y %H:%M\"\n",
    "\n",
    "for row in potus:\n",
    "    start_date = row[3]\n",
    "    start_date = dt.datetime.strptime(start_date,date_format)\n",
    "    row[3] = start_date"
   ]
  },
  {
   "cell_type": "code",
   "execution_count": null,
   "metadata": {},
   "outputs": [],
   "source": [
    "appt_lengths = {}\n",
    "\n",
    "for row in potus:\n",
    "    start_date = row[2]\n",
    "    end_date = row[3]\n",
    "    length = end_date - start_date \n",
    "    if length not in appt_lengths:\n",
    "        appt_lengths[length] = 1\n",
    "    else:\n",
    "        appt_lengths[length] += 1\n",
    "        \n",
    "min_length = min(appt_lengths)\n",
    "max_length = max(appt_lengths)\n",
    "\n",
    "print(min_length)\n",
    "print(max_length)"
   ]
  },
  {
   "cell_type": "code",
   "execution_count": null,
   "metadata": {},
   "outputs": [],
   "source": []
  }
 ],
 "metadata": {
  "kernelspec": {
   "display_name": "Python 3",
   "language": "python",
   "name": "python3"
  },
  "language_info": {
   "codemirror_mode": {
    "name": "ipython",
    "version": 3
   },
   "file_extension": ".py",
   "mimetype": "text/x-python",
   "name": "python",
   "nbconvert_exporter": "python",
   "pygments_lexer": "ipython3",
   "version": "3.6.5"
  }
 },
 "nbformat": 4,
 "nbformat_minor": 2
}
