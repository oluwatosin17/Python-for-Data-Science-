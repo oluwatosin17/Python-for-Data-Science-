{
 "cells": [
  {
   "cell_type": "code",
   "execution_count": 2,
   "metadata": {},
   "outputs": [
    {
     "name": "stdout",
     "output_type": "stream",
     "text": [
      "moma has been added succesfully\n"
     ]
    }
   ],
   "source": [
    "from csv import reader\n",
    "\n",
    "### artworks data set ###\n",
    "opened_file = open('artworks_clean.csv', encoding = 'utf8')\n",
    "read_file = reader(opened_file)\n",
    "moma = list(read_file)\n",
    "moma_header = moma[0]\n",
    "moma = moma[1:]\n",
    "print('moma has been added succesfully')"
   ]
  },
  {
   "cell_type": "code",
   "execution_count": 3,
   "metadata": {},
   "outputs": [],
   "source": [
    "for row in moma:\n",
    "    birth_date = row[3]\n",
    "    if birth_date != \"\":\n",
    "        birth_date = int(birth_date)\n",
    "    row[3] = birth_date"
   ]
  },
  {
   "cell_type": "code",
   "execution_count": 4,
   "metadata": {},
   "outputs": [],
   "source": [
    "for row in moma:\n",
    "    date = row[6]\n",
    "    if date != \"\":\n",
    "        date = int(date)\n",
    "    row[6] = date"
   ]
  },
  {
   "cell_type": "code",
   "execution_count": null,
   "metadata": {},
   "outputs": [],
   "source": []
  },
  {
   "cell_type": "markdown",
   "metadata": {},
   "source": [
    "**Calculating Artist Ages**"
   ]
  },
  {
   "cell_type": "code",
   "execution_count": 10,
   "metadata": {},
   "outputs": [],
   "source": [
    "ages = []\n",
    "for row in moma:\n",
    "    date = row[6]\n",
    "    birth = row[3]\n",
    "    \n",
    "    if type(birth) == int:\n",
    "        age = date - birth\n",
    "    elif type(birth) != int:\n",
    "        age = 0\n",
    "    ages.append(age)\n",
    "    \n",
    "final_ages = []\n",
    "for num in ages:\n",
    "    if num > 20:\n",
    "        final_age = num\n",
    "    elif num < 20: \n",
    "        final_age = \"Unknown\"\n",
    "    final_ages.append(final_age)"
   ]
  },
  {
   "cell_type": "code",
   "execution_count": null,
   "metadata": {},
   "outputs": [],
   "source": []
  },
  {
   "cell_type": "markdown",
   "metadata": {},
   "source": [
    "**Converting Ages to Decades**"
   ]
  },
  {
   "cell_type": "code",
   "execution_count": 19,
   "metadata": {},
   "outputs": [],
   "source": [
    "s = \"hello\""
   ]
  },
  {
   "cell_type": "code",
   "execution_count": 20,
   "metadata": {},
   "outputs": [
    {
     "data": {
      "text/plain": [
       "'l'"
      ]
     },
     "execution_count": 20,
     "metadata": {},
     "output_type": "execute_result"
    }
   ],
   "source": [
    "s[2]"
   ]
  },
  {
   "cell_type": "code",
   "execution_count": 21,
   "metadata": {},
   "outputs": [
    {
     "data": {
      "text/plain": [
       "'ell'"
      ]
     },
     "execution_count": 21,
     "metadata": {},
     "output_type": "execute_result"
    }
   ],
   "source": [
    "s[1:4]"
   ]
  },
  {
   "cell_type": "code",
   "execution_count": 23,
   "metadata": {},
   "outputs": [],
   "source": [
    "s = str(106)"
   ]
  },
  {
   "cell_type": "code",
   "execution_count": 24,
   "metadata": {},
   "outputs": [
    {
     "data": {
      "text/plain": [
       "'6'"
      ]
     },
     "execution_count": 24,
     "metadata": {},
     "output_type": "execute_result"
    }
   ],
   "source": [
    "s[-1]"
   ]
  },
  {
   "cell_type": "code",
   "execution_count": 28,
   "metadata": {},
   "outputs": [],
   "source": [
    "age = 24\n",
    "decade = str(age)"
   ]
  },
  {
   "cell_type": "code",
   "execution_count": 29,
   "metadata": {},
   "outputs": [
    {
     "name": "stdout",
     "output_type": "stream",
     "text": [
      "2\n"
     ]
    }
   ],
   "source": [
    "decade = decade[:-1]\n",
    "print(decade)"
   ]
  },
  {
   "cell_type": "code",
   "execution_count": 30,
   "metadata": {},
   "outputs": [
    {
     "name": "stdout",
     "output_type": "stream",
     "text": [
      "20s\n"
     ]
    }
   ],
   "source": [
    "decade = decade+\"0s\"\n",
    "print(decade)"
   ]
  },
  {
   "cell_type": "code",
   "execution_count": 38,
   "metadata": {},
   "outputs": [],
   "source": [
    "decades = []\n",
    "for a in final_ages:\n",
    "    if a == \"Unknown\":\n",
    "        decad = a\n",
    "    elif a != \"Unknown\":\n",
    "        decad = str(a)\n",
    "        decad = decad[:-1]\n",
    "        decad = decad + \"0s\"\n",
    "        decades.append(decad)"
   ]
  },
  {
   "cell_type": "code",
   "execution_count": 39,
   "metadata": {},
   "outputs": [
    {
     "name": "stdout",
     "output_type": "stream",
     "text": [
      "40s\n"
     ]
    }
   ],
   "source": [
    "print(decades[67])"
   ]
  },
  {
   "cell_type": "code",
   "execution_count": null,
   "metadata": {},
   "outputs": [],
   "source": []
  },
  {
   "cell_type": "markdown",
   "metadata": {},
   "source": [
    "**Summarizing the Decade Data**"
   ]
  },
  {
   "cell_type": "code",
   "execution_count": 51,
   "metadata": {},
   "outputs": [],
   "source": [
    "fruit = [\"orange\",\"apple\",\"apple\",\"orange\",\"orange\",\"banana\",\"banana\",\"apple\",\"orange\",\"apple\"]"
   ]
  },
  {
   "cell_type": "code",
   "execution_count": 54,
   "metadata": {},
   "outputs": [
    {
     "name": "stdout",
     "output_type": "stream",
     "text": [
      "{'orange': 1}\n",
      "{'orange': 1, 'apple': 1}\n",
      "{'orange': 1, 'apple': 2}\n",
      "{'orange': 2, 'apple': 2}\n",
      "{'orange': 3, 'apple': 2}\n",
      "{'orange': 3, 'apple': 2, 'banana': 1}\n",
      "{'orange': 3, 'apple': 2, 'banana': 2}\n",
      "{'orange': 3, 'apple': 3, 'banana': 2}\n",
      "{'orange': 4, 'apple': 3, 'banana': 2}\n",
      "{'orange': 4, 'apple': 4, 'banana': 2}\n"
     ]
    }
   ],
   "source": [
    "fruit_frequency = {}\n",
    "\n",
    "for f in fruit:\n",
    "    if f not in fruit_frequency:\n",
    "        fruit_frequency[f] = 1\n",
    "    else:\n",
    "        fruit_frequency[f] += 1\n",
    "    print(fruit_frequency)\n",
    "        "
   ]
  },
  {
   "cell_type": "code",
   "execution_count": 55,
   "metadata": {},
   "outputs": [],
   "source": [
    "decade_frequency = {}\n",
    "for a in decades:\n",
    "    if a not in decade_frequency:\n",
    "        decade_frequency[a] = 1\n",
    "    else:\n",
    "        decade_frequency[a] += 1\n"
   ]
  },
  {
   "cell_type": "code",
   "execution_count": 57,
   "metadata": {},
   "outputs": [
    {
     "name": "stdout",
     "output_type": "stream",
     "text": [
      "{'30s': 4732, '60s': 1360, '70s': 560, '40s': 4088, '50s': 2438, '20s': 1859, '90s': 253, '80s': 365, '100s': 3, '110s': 3}\n"
     ]
    }
   ],
   "source": [
    "print(decade_frequency)"
   ]
  },
  {
   "cell_type": "code",
   "execution_count": null,
   "metadata": {},
   "outputs": [],
   "source": []
  },
  {
   "cell_type": "markdown",
   "metadata": {},
   "source": [
    "**Inserting Variables into Strings**"
   ]
  },
  {
   "cell_type": "code",
   "execution_count": 58,
   "metadata": {},
   "outputs": [],
   "source": [
    "name = 'Kylie'\n",
    "num = 8"
   ]
  },
  {
   "cell_type": "code",
   "execution_count": 60,
   "metadata": {},
   "outputs": [
    {
     "name": "stdout",
     "output_type": "stream",
     "text": [
      "Kylie's favourite number is 8\n"
     ]
    }
   ],
   "source": [
    "output = name + \"'s favourite number is \"+ str(num)\n",
    "print(output)"
   ]
  },
  {
   "cell_type": "code",
   "execution_count": 63,
   "metadata": {},
   "outputs": [
    {
     "name": "stdout",
     "output_type": "stream",
     "text": [
      "Kylie's favourite number is 8\n"
     ]
    }
   ],
   "source": [
    "output = \"{}'s favourite number is {}\".format(\"Kylie\",8)\n",
    "print(output)"
   ]
  },
  {
   "cell_type": "code",
   "execution_count": 67,
   "metadata": {},
   "outputs": [
    {
     "name": "stdout",
     "output_type": "stream",
     "text": [
      "Kylie's favourite number is 8, 8 is Kylie's favourite number\n"
     ]
    }
   ],
   "source": [
    "output = \"{0}'s favourite number is {1}, {1} is {0}'s favourite number\".format(\"Kylie\",8)\n",
    "print(output)"
   ]
  },
  {
   "cell_type": "code",
   "execution_count": 68,
   "metadata": {},
   "outputs": [
    {
     "name": "stdout",
     "output_type": "stream",
     "text": [
      "Pablo Picasso's birth year is 1881\n"
     ]
    }
   ],
   "source": [
    "artist = \"Pablo Picasso\"\n",
    "birth_year = 1881\n",
    "template = \"{name}'s birth year is {year}\"\n",
    "output = template.format(name = \"Pablo Picasso\", year = 1881)\n",
    "print(output)"
   ]
  },
  {
   "cell_type": "code",
   "execution_count": null,
   "metadata": {},
   "outputs": [],
   "source": []
  },
  {
   "cell_type": "markdown",
   "metadata": {},
   "source": [
    "**Creating an Artist Frequency**"
   ]
  },
  {
   "cell_type": "code",
   "execution_count": 69,
   "metadata": {},
   "outputs": [],
   "source": [
    "artist_freq = {}\n",
    "for row in moma:\n",
    "    artist = row[1]\n",
    "    if artist not in artist_freq:\n",
    "        artist_freq[artist] = 1\n",
    "    else:\n",
    "        artist_freq[artist] += 1"
   ]
  },
  {
   "cell_type": "code",
   "execution_count": 71,
   "metadata": {},
   "outputs": [
    {
     "name": "stdout",
     "output_type": "stream",
     "text": [
      "{'Female': 2443, 'Male': 13492, 'Gender Unknown/Other': 794}\n"
     ]
    }
   ],
   "source": [
    "gender_freq = {}\n",
    "for row in moma:\n",
    "    g = row[5]\n",
    "    if g not in gender_freq:\n",
    "        gender_freq[g] = 1\n",
    "    else:\n",
    "        gender_freq[g] += 1\n",
    "print(gender_freq)"
   ]
  },
  {
   "cell_type": "code",
   "execution_count": 96,
   "metadata": {},
   "outputs": [],
   "source": [
    "def artist_summary(artist):\n",
    "    num_artworks = artist_freq[artist]\n",
    "    template = \"There are {variable} artworks by {name} in the data set\"\n",
    "    output = template.format(variable = num_artworks, name = artist)\n",
    "    print(output)"
   ]
  },
  {
   "cell_type": "code",
   "execution_count": 98,
   "metadata": {},
   "outputs": [
    {
     "name": "stdout",
     "output_type": "stream",
     "text": [
      "There are 129 artworks by Henri Matisse in the data set\n",
      "None\n"
     ]
    }
   ],
   "source": [
    "print(artist_summary(\"Henri Matisse\"))"
   ]
  },
  {
   "cell_type": "code",
   "execution_count": null,
   "metadata": {},
   "outputs": [],
   "source": []
  },
  {
   "cell_type": "code",
   "execution_count": null,
   "metadata": {},
   "outputs": [],
   "source": []
  },
  {
   "cell_type": "code",
   "execution_count": null,
   "metadata": {},
   "outputs": [],
   "source": []
  },
  {
   "cell_type": "code",
   "execution_count": 107,
   "metadata": {},
   "outputs": [],
   "source": [
    "def gender_summary(gender):\n",
    "    number_gender = gender_freq[gender]\n",
    "    template = \"The total number of {g} gender, is {number}\"\n",
    "    output = template.format(g = g , number = number_gender)\n",
    "    print(output)"
   ]
  },
  {
   "cell_type": "code",
   "execution_count": 111,
   "metadata": {},
   "outputs": [
    {
     "name": "stdout",
     "output_type": "stream",
     "text": [
      "The total number of Male gender, is 13492\n",
      "None\n"
     ]
    }
   ],
   "source": [
    "print(gender_summary('Male'))"
   ]
  },
  {
   "cell_type": "code",
   "execution_count": 112,
   "metadata": {},
   "outputs": [
    {
     "name": "stdout",
     "output_type": "stream",
     "text": [
      "I own 32.554865% of the company\n"
     ]
    }
   ],
   "source": [
    "num = 32.554865\n",
    "print(\"I own {pct}% of the company\".format(pct = num))"
   ]
  },
  {
   "cell_type": "code",
   "execution_count": 118,
   "metadata": {},
   "outputs": [
    {
     "name": "stdout",
     "output_type": "stream",
     "text": [
      "I own 32.55% of the GSK\n"
     ]
    }
   ],
   "source": [
    "num = 32.554865\n",
    "comp = 'GSK'\n",
    "print(\"I own {pct:.2f}% of the {company}\".format(pct = num, company = comp))"
   ]
  },
  {
   "cell_type": "code",
   "execution_count": 120,
   "metadata": {},
   "outputs": [
    {
     "name": "stdout",
     "output_type": "stream",
     "text": [
      "I own 32.554865% of the GSK\n"
     ]
    }
   ],
   "source": [
    "num = 32.554865\n",
    "comp = 'GSK'\n",
    "print(\"I own {0:,}% of the {1}\".format(32.554865,'GSK'))"
   ]
  },
  {
   "cell_type": "code",
   "execution_count": 121,
   "metadata": {},
   "outputs": [
    {
     "name": "stdout",
     "output_type": "stream",
     "text": [
      "I own 32.55% of the GSK\n"
     ]
    }
   ],
   "source": [
    "print(\"I own {0:,.2f}% of the {1}\".format(32.554865,'GSK'))"
   ]
  },
  {
   "cell_type": "code",
   "execution_count": 122,
   "metadata": {},
   "outputs": [
    {
     "name": "stdout",
     "output_type": "stream",
     "text": [
      "The population of China is 1,379.30 million\n",
      "The population of India is 1,281.99 million\n",
      "The population of USA is 326.98 million\n"
     ]
    }
   ],
   "source": [
    "pop_millions = [\n",
    "    [\"China\",1379.302771],\n",
    "    [\"India\", 1281.98765],\n",
    "    [\"USA\",326.97658]\n",
    "]\n",
    "template = \"The population of {country} is {number:,.2f} million\"\n",
    "for m in pop_millions:\n",
    "    name = m[0]\n",
    "    value = m[1]\n",
    "    output = template.format(country = name, number = value)\n",
    "    print(output)\n",
    "    "
   ]
  },
  {
   "cell_type": "code",
   "execution_count": 124,
   "metadata": {},
   "outputs": [
    {
     "name": "stdout",
     "output_type": "stream",
     "text": [
      "{'orange': 4, 'apple': 4, 'banana': 2}\n"
     ]
    }
   ],
   "source": [
    "print(fruit_frequency)"
   ]
  },
  {
   "cell_type": "code",
   "execution_count": 125,
   "metadata": {},
   "outputs": [
    {
     "name": "stdout",
     "output_type": "stream",
     "text": [
      "I have 4 oranges\n",
      "I have 4 apples\n",
      "I have 2 bananas\n"
     ]
    }
   ],
   "source": [
    "for fruit, qty in fruit_frequency.items():\n",
    "    output = \"I have {q} {f}s\".format(f = fruit, q= qty)\n",
    "    print(output)"
   ]
  },
  {
   "cell_type": "code",
   "execution_count": 126,
   "metadata": {},
   "outputs": [
    {
     "data": {
      "text/plain": [
       "dict_items([('orange', 4), ('apple', 4), ('banana', 2)])"
      ]
     },
     "execution_count": 126,
     "metadata": {},
     "output_type": "execute_result"
    }
   ],
   "source": [
    "fruit_frequency.items()"
   ]
  },
  {
   "cell_type": "code",
   "execution_count": 127,
   "metadata": {},
   "outputs": [
    {
     "data": {
      "text/plain": [
       "dict_items([('Female', 2443), ('Male', 13492), ('Gender Unknown/Other', 794)])"
      ]
     },
     "execution_count": 127,
     "metadata": {},
     "output_type": "execute_result"
    }
   ],
   "source": [
    "gender_freq.items()"
   ]
  },
  {
   "cell_type": "code",
   "execution_count": 128,
   "metadata": {},
   "outputs": [
    {
     "name": "stdout",
     "output_type": "stream",
     "text": [
      "There are 2443 artworks by Female artists\n",
      "There are 13492 artworks by Male artists\n",
      "There are 794 artworks by Gender Unknown/Other artists\n"
     ]
    }
   ],
   "source": [
    "for gender, number in gender_freq.items():\n",
    "    output = \"There are {n} artworks by {g} artists\".format(n = number, g = gender)\n",
    "    print(output)"
   ]
  },
  {
   "cell_type": "code",
   "execution_count": null,
   "metadata": {},
   "outputs": [],
   "source": []
  }
 ],
 "metadata": {
  "kernelspec": {
   "display_name": "Python 3",
   "language": "python",
   "name": "python3"
  },
  "language_info": {
   "codemirror_mode": {
    "name": "ipython",
    "version": 3
   },
   "file_extension": ".py",
   "mimetype": "text/x-python",
   "name": "python",
   "nbconvert_exporter": "python",
   "pygments_lexer": "ipython3",
   "version": "3.6.5"
  }
 },
 "nbformat": 4,
 "nbformat_minor": 2
}
