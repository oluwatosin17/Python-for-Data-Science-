{
 "cells": [
  {
   "cell_type": "markdown",
   "metadata": {},
   "source": [
    "**Introducing Data Cleaning**"
   ]
  },
  {
   "cell_type": "code",
   "execution_count": null,
   "metadata": {},
   "outputs": [],
   "source": []
  },
  {
   "cell_type": "code",
   "execution_count": 23,
   "metadata": {},
   "outputs": [],
   "source": [
    "def explore_data(dataset, start,end, rows_columns = False):\n",
    "    data_slice = dataset[start:end]\n",
    "    for row in data_slice:\n",
    "        print(row)\n",
    "        print('\\n')\n",
    "        \n",
    "    if rows_columns:\n",
    "        print('Number of rows:', len(dataset))\n",
    "        print('Number of columns:', len(dataset[0]))"
   ]
  },
  {
   "cell_type": "code",
   "execution_count": 24,
   "metadata": {},
   "outputs": [
    {
     "name": "stdout",
     "output_type": "stream",
     "text": [
      "moma has been added succesfully\n"
     ]
    }
   ],
   "source": [
    "from csv import reader\n",
    "\n",
    "### artworks data set ###\n",
    "opened_file = open('artworks.csv', encoding = 'utf8')\n",
    "read_file = reader(opened_file)\n",
    "moma = list(read_file)\n",
    "moma_header = moma[0]\n",
    "moma = moma[1:]\n",
    "print('moma has been added succesfully')"
   ]
  },
  {
   "cell_type": "markdown",
   "metadata": {},
   "source": [
    "if we want to find out how many rows are in our list of lists, we can use built-in function `len()` "
   ]
  },
  {
   "cell_type": "code",
   "execution_count": 25,
   "metadata": {},
   "outputs": [
    {
     "name": "stdout",
     "output_type": "stream",
     "text": [
      "16725\n"
     ]
    }
   ],
   "source": [
    "num_rows = len(moma)\n",
    "print(num_rows)"
   ]
  },
  {
   "cell_type": "code",
   "execution_count": null,
   "metadata": {},
   "outputs": [],
   "source": []
  },
  {
   "cell_type": "markdown",
   "metadata": {},
   "source": [
    "**Replacing sub-strings with replace method**"
   ]
  },
  {
   "cell_type": "code",
   "execution_count": 5,
   "metadata": {},
   "outputs": [
    {
     "name": "stdout",
     "output_type": "stream",
     "text": [
      "blue is my favourite color\n"
     ]
    }
   ],
   "source": [
    "fav_color = \"red is my favourite color\"\n",
    "fav_color = fav_color.replace(\"red\", \"blue\")\n",
    "print(fav_color)"
   ]
  },
  {
   "cell_type": "code",
   "execution_count": 6,
   "metadata": {},
   "outputs": [
    {
     "name": "stdout",
     "output_type": "stream",
     "text": [
      "Red is my favouRite coloR\n"
     ]
    }
   ],
   "source": [
    "fav_color = \"red is my favourite color\"\n",
    "fav_color = fav_color.replace(\"r\", \"R\")\n",
    "print(fav_color)"
   ]
  },
  {
   "cell_type": "code",
   "execution_count": 7,
   "metadata": {},
   "outputs": [
    {
     "name": "stdout",
     "output_type": "stream",
     "text": [
      "I am thirty two years old\n"
     ]
    }
   ],
   "source": [
    "age1 = \"I am thirty one years old\"\n",
    "age2 = age1.replace(\"one\",\"two\")\n",
    "print(age2)"
   ]
  },
  {
   "cell_type": "code",
   "execution_count": null,
   "metadata": {},
   "outputs": [],
   "source": []
  },
  {
   "cell_type": "markdown",
   "metadata": {},
   "source": [
    "**Cleaning the Nationality and Gender Columns**"
   ]
  },
  {
   "cell_type": "code",
   "execution_count": 26,
   "metadata": {},
   "outputs": [
    {
     "name": "stdout",
     "output_type": "stream",
     "text": [
      "American\n",
      "English\n",
      "Spanish\n",
      "French\n"
     ]
    }
   ],
   "source": [
    "nationalities = [\"(American)\", \"(English)\",\"(Spanish)\",\"(French)\"]\n",
    "\n",
    "for n in nationalities:\n",
    "    clean_open = n.replace(\"(\",\"\")\n",
    "    clean_both = clean_open.replace(\")\",\"\")\n",
    "    print(clean_both)"
   ]
  },
  {
   "cell_type": "code",
   "execution_count": 27,
   "metadata": {},
   "outputs": [
    {
     "name": "stdout",
     "output_type": "stream",
     "text": [
      "(American)\n",
      "(Dutch)\n",
      "(Swiss)\n"
     ]
    }
   ],
   "source": [
    "print(moma[300][2])\n",
    "print(moma[400][2])\n",
    "print(moma[500][2])"
   ]
  },
  {
   "cell_type": "code",
   "execution_count": 28,
   "metadata": {},
   "outputs": [],
   "source": [
    "for row in moma:\n",
    "    nationality = row[2]\n",
    "    nationality = nationality.replace(\"(\",\"\")\n",
    "    nationality = nationality.replace(\")\",\"\")\n",
    "    row[2] = nationality"
   ]
  },
  {
   "cell_type": "code",
   "execution_count": 29,
   "metadata": {},
   "outputs": [
    {
     "name": "stdout",
     "output_type": "stream",
     "text": [
      "American\n",
      "Dutch\n",
      "Swiss\n"
     ]
    }
   ],
   "source": [
    "print(moma[300][2])\n",
    "print(moma[400][2])\n",
    "print(moma[500][2])"
   ]
  },
  {
   "cell_type": "code",
   "execution_count": 30,
   "metadata": {},
   "outputs": [
    {
     "name": "stdout",
     "output_type": "stream",
     "text": [
      "(Male)\n",
      "(Female)\n",
      "(Male)\n"
     ]
    }
   ],
   "source": [
    "print(moma[300][5])\n",
    "print(moma[400][5])\n",
    "print(moma[500][5])"
   ]
  },
  {
   "cell_type": "code",
   "execution_count": 31,
   "metadata": {},
   "outputs": [],
   "source": [
    "for row in moma:\n",
    "    gender = row[5]\n",
    "    gender = gender.replace(\"(\",\"\")\n",
    "    gender = gender.replace(\")\",\"\")\n",
    "    row[5] = gender"
   ]
  },
  {
   "cell_type": "code",
   "execution_count": 32,
   "metadata": {},
   "outputs": [
    {
     "name": "stdout",
     "output_type": "stream",
     "text": [
      "Male\n",
      "Female\n",
      "Male\n"
     ]
    }
   ],
   "source": [
    "print(moma[300][5])\n",
    "print(moma[400][5])\n",
    "print(moma[500][5])"
   ]
  },
  {
   "cell_type": "code",
   "execution_count": null,
   "metadata": {},
   "outputs": [],
   "source": []
  },
  {
   "cell_type": "markdown",
   "metadata": {},
   "source": [
    "**String Capitalization**"
   ]
  },
  {
   "cell_type": "code",
   "execution_count": 34,
   "metadata": {},
   "outputs": [
    {
     "name": "stdout",
     "output_type": "stream",
     "text": [
      "This Cool Thing About This String Is That It Has Combination Of Uppercase And Lowercase Letters\n"
     ]
    }
   ],
   "source": [
    "my_string = \"This cool thing about this string is that it has CoMBination of UPPERCASE and lowercase letters\"\n",
    "my_string_title = my_string.title()\n",
    "print(my_string_title)"
   ]
  },
  {
   "cell_type": "code",
   "execution_count": 35,
   "metadata": {},
   "outputs": [],
   "source": [
    "for row in moma:\n",
    "    gender = row[5]\n",
    "    gender = gender.title()\n",
    "    if not gender:\n",
    "        gender = \"Gender Unknown/Other\"\n",
    "    row[5] = gender"
   ]
  },
  {
   "cell_type": "code",
   "execution_count": 38,
   "metadata": {},
   "outputs": [],
   "source": [
    "for row in moma:\n",
    "    nationality = row[2]\n",
    "    nationality = nationality.title()\n",
    "    if not nationality:\n",
    "        nationality = \"Nationality Unknown\"\n",
    "    row[2] = nationality\n",
    "    "
   ]
  },
  {
   "cell_type": "code",
   "execution_count": null,
   "metadata": {},
   "outputs": [],
   "source": []
  },
  {
   "cell_type": "markdown",
   "metadata": {},
   "source": [
    "**Error during data cleaning**"
   ]
  },
  {
   "cell_type": "code",
   "execution_count": 42,
   "metadata": {},
   "outputs": [
    {
     "name": "stdout",
     "output_type": "stream",
     "text": [
      "(1947) (2013)\n",
      "(1916) (2007)\n",
      "(1870) (1943)\n",
      "(1861) (1944)\n",
      "(1857) (1927)\n"
     ]
    }
   ],
   "source": [
    "for row in moma[:5]:\n",
    "    birth_date = row[3]\n",
    "    death_date = row[4]\n",
    "    print(birth_date,death_date)\n",
    "    "
   ]
  },
  {
   "cell_type": "code",
   "execution_count": 43,
   "metadata": {},
   "outputs": [],
   "source": [
    "def clean_and_convert_date(date):\n",
    "    date = date.replace(\"(\",\"\")\n",
    "    date = date.replace(\")\",\"\")\n",
    "    date = int(date)\n",
    "    return date\n",
    "    "
   ]
  },
  {
   "cell_type": "code",
   "execution_count": 45,
   "metadata": {},
   "outputs": [
    {
     "name": "stdout",
     "output_type": "stream",
     "text": [
      "1945\n",
      "<class 'int'>\n"
     ]
    }
   ],
   "source": [
    "birth_date = '(1945)'\n",
    "birth_date = clean_and_convert_date(birth_date)\n",
    "print(birth_date)\n",
    "print(type(birth_date))"
   ]
  },
  {
   "cell_type": "code",
   "execution_count": 46,
   "metadata": {},
   "outputs": [
    {
     "name": "stdout",
     "output_type": "stream",
     "text": [
      "['Untitled', 'Unknown', 'Nationality Unknown', '', '', 'Gender Unknown/Other', 'c. 1925', 'Photography']\n"
     ]
    }
   ],
   "source": [
    "row_32 = moma[31] \n",
    "print(row_32)"
   ]
  },
  {
   "cell_type": "code",
   "execution_count": 47,
   "metadata": {},
   "outputs": [],
   "source": [
    "def clean_and_convert_date(date):\n",
    "    if date != \"\":\n",
    "        date = date.replace(\"(\",\"\")\n",
    "        date = date.replace(\")\",\"\")\n",
    "        date = int(date)\n",
    "    return date\n",
    "    "
   ]
  },
  {
   "cell_type": "code",
   "execution_count": 48,
   "metadata": {},
   "outputs": [],
   "source": [
    "for row in moma:\n",
    "    BeginDate = row[3]\n",
    "    EndDate = row[4]\n",
    "    BeginDate = clean_and_convert_date(BeginDate)\n",
    "    EndDate = clean_and_convert_date(EndDate)\n",
    "    row[3] = BeginDate\n",
    "    row[4] = EndDate"
   ]
  },
  {
   "cell_type": "code",
   "execution_count": 49,
   "metadata": {},
   "outputs": [
    {
     "name": "stdout",
     "output_type": "stream",
     "text": [
      "['Duplicate of plate from folio 104 (supplementary suite, plate 95) from LA VILLE', 'Frans Masereel', 'Belgian', 1889, 1972, 'Male', '1925', 'Prints & Illustrated Books']\n"
     ]
    }
   ],
   "source": [
    "row_32 = moma[30] \n",
    "print(row_32)"
   ]
  },
  {
   "cell_type": "code",
   "execution_count": null,
   "metadata": {},
   "outputs": [],
   "source": []
  },
  {
   "cell_type": "markdown",
   "metadata": {},
   "source": [
    "**Parsing Numbers from Complex String Part1**"
   ]
  },
  {
   "cell_type": "code",
   "execution_count": 61,
   "metadata": {},
   "outputs": [],
   "source": [
    "strings = [\"good!\",\"morn?ing\",\"good?!\",\"morniZZZZng\"]\n",
    "bad_char = [\"!\",\"?\",\"Z\"]"
   ]
  },
  {
   "cell_type": "code",
   "execution_count": 71,
   "metadata": {},
   "outputs": [],
   "source": [
    "def strip_char(string):\n",
    "    for char in bad_char:\n",
    "        string = string.replace(char,\"\")\n",
    "    return string"
   ]
  },
  {
   "cell_type": "code",
   "execution_count": 63,
   "metadata": {},
   "outputs": [
    {
     "name": "stdout",
     "output_type": "stream",
     "text": [
      "['good', 'morning', 'good', 'morning']\n"
     ]
    }
   ],
   "source": [
    "cleaned_strings = []\n",
    "for s in strings:\n",
    "    s = strip_char(s)\n",
    "    cleaned_strings.append(s)\n",
    "print(cleaned_strings)"
   ]
  },
  {
   "cell_type": "code",
   "execution_count": 72,
   "metadata": {},
   "outputs": [],
   "source": [
    "test_data = [\"1972\",\"1973\",\"1974-1975\",\"(1976)\",\"c.1977\",\"C.1978\",\"s.1979\",\"c.1980-1982's\"]\n",
    "bad_char = (\"(\",\")\",\"s\",\"c\",\"'\",\"C\",\".\",\" \")"
   ]
  },
  {
   "cell_type": "code",
   "execution_count": 73,
   "metadata": {},
   "outputs": [
    {
     "name": "stdout",
     "output_type": "stream",
     "text": [
      "['1972', '1973', '1974-1975', '1976', '1977', '1978', '1979', '1980-1982']\n"
     ]
    }
   ],
   "source": [
    "clean_strings = []\n",
    "for s in test_data:\n",
    "    s = strip_char(s)\n",
    "    clean_strings.append(s)\n",
    "print(clean_strings)"
   ]
  },
  {
   "cell_type": "code",
   "execution_count": null,
   "metadata": {},
   "outputs": [],
   "source": []
  },
  {
   "cell_type": "markdown",
   "metadata": {},
   "source": [
    "**Parsing Numbers from Complex String Part2**"
   ]
  },
  {
   "cell_type": "code",
   "execution_count": 74,
   "metadata": {},
   "outputs": [
    {
     "name": "stdout",
     "output_type": "stream",
     "text": [
      "The string was found\n"
     ]
    }
   ],
   "source": [
    "if \"car\" in \"carpet\":\n",
    "    print(\"The string was found\")\n",
    "else:\n",
    "    print(\"The string was not found\")"
   ]
  },
  {
   "cell_type": "code",
   "execution_count": 75,
   "metadata": {},
   "outputs": [
    {
     "name": "stdout",
     "output_type": "stream",
     "text": [
      "The string was not found\n"
     ]
    }
   ],
   "source": [
    "if \"mike\" in \"michael\":\n",
    "    print(\"The string was found\")\n",
    "else:\n",
    "    print(\"The string was not found\")"
   ]
  },
  {
   "cell_type": "code",
   "execution_count": 94,
   "metadata": {},
   "outputs": [],
   "source": [
    "three_peat = (\"1991 - 1993\")\n",
    "three_peat = (three_peat.split(\"-\"))"
   ]
  },
  {
   "cell_type": "code",
   "execution_count": null,
   "metadata": {},
   "outputs": [],
   "source": []
  },
  {
   "cell_type": "code",
   "execution_count": 97,
   "metadata": {},
   "outputs": [],
   "source": [
    "three_peat = int((three_peat[0])) + int(three_peat[1])"
   ]
  },
  {
   "cell_type": "code",
   "execution_count": 98,
   "metadata": {},
   "outputs": [],
   "source": [
    "three_peat = (three_peat/2)"
   ]
  },
  {
   "cell_type": "code",
   "execution_count": 100,
   "metadata": {},
   "outputs": [
    {
     "name": "stdout",
     "output_type": "stream",
     "text": [
      "1992\n"
     ]
    }
   ],
   "source": [
    "print(round(three_peat))"
   ]
  },
  {
   "cell_type": "code",
   "execution_count": 96,
   "metadata": {},
   "outputs": [
    {
     "data": {
      "text/plain": [
       "str"
      ]
     },
     "execution_count": 96,
     "metadata": {},
     "output_type": "execute_result"
    }
   ],
   "source": [
    "type(three_peat[0])"
   ]
  },
  {
   "cell_type": "code",
   "execution_count": 109,
   "metadata": {},
   "outputs": [
    {
     "name": "stdout",
     "output_type": "stream",
     "text": [
      "[1972, 1973, 1974, 1976, 1977, 1978, 1979, 1981]\n"
     ]
    }
   ],
   "source": [
    "def process_date(string):\n",
    "    if \"-\" in string:\n",
    "        string = string.split(\"-\")\n",
    "        string = int(string[0]) + int(string[1])\n",
    "        string = string/2\n",
    "        string = round(string)\n",
    "    else:\n",
    "        string = int(string)\n",
    "    return string\n",
    "\n",
    "processed_test_data = []\n",
    "\n",
    "for s in clean_strings:\n",
    "        s = process_date(s)\n",
    "        processed_test_data.append(s)\n",
    "        \n",
    "print(processed_test_data)        "
   ]
  },
  {
   "cell_type": "code",
   "execution_count": 112,
   "metadata": {},
   "outputs": [],
   "source": [
    "for row in moma:\n",
    "    date = row[6]\n",
    "    date = strip_char(date)\n",
    "    date = process_date(date)\n",
    "    row[6] = date"
   ]
  },
  {
   "cell_type": "code",
   "execution_count": 111,
   "metadata": {},
   "outputs": [
    {
     "name": "stdout",
     "output_type": "stream",
     "text": [
      "<class 'int'>\n"
     ]
    }
   ],
   "source": [
    "print(type(processed_test_data[1])) "
   ]
  },
  {
   "cell_type": "code",
   "execution_count": null,
   "metadata": {},
   "outputs": [],
   "source": []
  }
 ],
 "metadata": {
  "kernelspec": {
   "display_name": "Python 3",
   "language": "python",
   "name": "python3"
  },
  "language_info": {
   "codemirror_mode": {
    "name": "ipython",
    "version": 3
   },
   "file_extension": ".py",
   "mimetype": "text/x-python",
   "name": "python",
   "nbconvert_exporter": "python",
   "pygments_lexer": "ipython3",
   "version": "3.6.5"
  }
 },
 "nbformat": 4,
 "nbformat_minor": 2
}
